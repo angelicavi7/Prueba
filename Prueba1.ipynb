{
 "cells": [
  {
   "cell_type": "markdown",
   "metadata": {},
   "source": [
    "## Las correrías de Rafaela (I.P.) y Adolfo (H.P.)\n",
    "\n",
    "Rafaela lleva semanas sintiendo que Adolfo la viene tratando diferente; con algo de desidia y con comportamientos inusuales. Por esto, usando un programa que compró en Unilago, ha descargado los datos de los últimos tres meses de las dos SIM-Cards de Adolfo (personal y corporativa), así como los extractos de su tarjeta de crédito (un día que él dejó su computador desatendido), y un registro de llamadas de la factura del celular.\n",
    "\n",
    "En esta carpeta Usted encontrará los archivos:\n",
    "* \"evidencia/WApp_Corporativo.csv\"\n",
    "* \"evidencia/WApp_Personal.csv\"\n",
    "* \"evidencia/DatosFacturaMovistar.csv\"\n",
    "* \"evidencia/Municipios.xls\"\n",
    "* \"evidencia/TarjetaCred.csv\"\n",
    "\n",
    "### Episodio 1: \n",
    "\n",
    "#### ¿Será que habla con otra? ¿Cuánto lleva en esas?\n",
    "\n",
    "\"Este guache sí es desatento, pero no tanto. ¿Por qué anda tan alejado? Miremos el WhatsApp...\"\n",
    "\n",
    "##### (A) El WhatsApp Personal"
   ]
  },
  {
   "cell_type": "code",
   "execution_count": null,
   "metadata": {
    "scrolled": true
   },
   "outputs": [],
   "source": [
    "import pandas as pd\n",
    "import seaborn as sb\n",
    "\n",
    "file = \"evidencia/WApp_Personal.csv\"\n",
    "WA_Person = pd.read_csv(file)\n",
    "\n",
    "# Usar \".head()\" o \".columns\" para inspeccionar columnas\n",
    "WA_Person.head()"
   ]
  },
  {
   "cell_type": "code",
   "execution_count": null,
   "metadata": {},
   "outputs": [],
   "source": [
    "# Hay una columna de ruido (Solo importa \"LastSeen\"). Retirar:\n",
    "WA_Person.drop( [\"Unnamed: 0\"], axis=1, inplace=True)\n",
    "WA_Person.head()"
   ]
  },
  {
   "cell_type": "code",
   "execution_count": null,
   "metadata": {},
   "outputs": [],
   "source": [
    "# Use \".dtypes\" para asegurarse que los datos están en formato correco\n",
    "WA_Person.dtypes"
   ]
  },
  {
   "cell_type": "code",
   "execution_count": null,
   "metadata": {},
   "outputs": [],
   "source": [
    "# Tipo object es texto. Cambiar a \"datetime\"\n",
    "WA_Person[\"LastSeen\"] = pd.to_datetime(WA_Person[\"LastSeen\"])\n",
    "WA_Person.dtypes"
   ]
  },
  {
   "cell_type": "markdown",
   "metadata": {},
   "source": [
    "##### Voila\n",
    "\n",
    "Finalmente tenemos los datos limpios. Ahora ¿qué hacer con ellos? Con lo poco que hay, miremos a qué horas se conecta/desconecta Adolfo regularmente.\n",
    "\n",
    "Para esto deberíamos tomar los objetos tipo DateTime de \"LastSeen\" y **separar la fecha de la hora**. Quizá **enviar la fecha al índice del DataFrame** y conservar una columna con las horas de desconexión."
   ]
  },
  {
   "cell_type": "code",
   "execution_count": null,
   "metadata": {},
   "outputs": [],
   "source": [
    "import datetime as dt\n",
    "\n",
    "# Crear una columna tipo float con la hora en decimales (combinando horas y minutos)\n",
    "WA_Person[\"Hora\"] = pd.to_datetime(WA_Person[\"LastSeen\"]).dt.hour + (1.0/60)*pd.to_datetime(WA_Person[\"LastSeen\"]).dt.minute\n",
    "WA_Person.head()"
   ]
  },
  {
   "cell_type": "code",
   "execution_count": null,
   "metadata": {},
   "outputs": [],
   "source": [
    "import matplotlib.pyplot as plt\n",
    "plt.style.use('ggplot')\n",
    "\n",
    "# Dibujar Hora de Desconexión contra Fecha\n",
    "WA_Person.plot(x=\"LastSeen\", y=\"Hora\", style='.', color='b', legend=False)\n",
    "plt.title(\"Hora de Desconexión VS. Fecha\")\n",
    "plt.show()"
   ]
  },
  {
   "cell_type": "markdown",
   "metadata": {},
   "source": [
    "##### (B) El WhatsApp Corporativo"
   ]
  },
  {
   "cell_type": "code",
   "execution_count": null,
   "metadata": {},
   "outputs": [],
   "source": [
    "file = \"evidencia/WApp_Corporativo.csv\"\n",
    "WA_Corp = pd.read_csv(file)\n",
    "WA_Corp.drop( [\"Unnamed: 0\"], axis=1, inplace=True)\n",
    "WA_Corp[\"LastSeen\"] = pd.to_datetime(WA_Corp[\"LastSeen\"])\n",
    "WA_Corp[\"Hora\"] = pd.to_datetime(WA_Corp[\"LastSeen\"]).dt.hour + (1.0/60)*pd.to_datetime(WA_Corp[\"LastSeen\"]).dt.minute\n",
    "\n",
    "ax1 = WA_Person.plot(x=\"LastSeen\", y=\"Hora\", style='.', color='b', legend=False)\n",
    "WA_Corp.plot(x=\"LastSeen\", y=\"Hora\", style='.', color='r', ax=ax1, legend=False)\n",
    "\n",
    "plt.title(\"Hora de Desconexión VS. Fecha (azul=personal; rojo=corporativo)\")\n",
    "plt.show()"
   ]
  },
  {
   "cell_type": "markdown",
   "metadata": {},
   "source": [
    "\"¡Este troglodita se pasó julio de puro trasnocho hablando con alguna suripanta por el WA de la oficina!\"\n",
    "\n",
    "### Episodio 2:\n",
    "\n",
    "#### ¿Será solo coqueteo o están haciendo algo?\n",
    "\n",
    "Miremos las llamadas"
   ]
  },
  {
   "cell_type": "code",
   "execution_count": null,
   "metadata": {},
   "outputs": [],
   "source": [
    "file = \"evidencia/DatosFacturaMovistar.csv\"\n",
    "\n",
    "Cel = pd.read_csv(file)\n",
    "Cel.drop( [\"Unnamed: 0\"], axis=1, inplace=True)\n",
    "Cel.head()"
   ]
  },
  {
   "cell_type": "markdown",
   "metadata": {},
   "source": [
    "\"Nada raro con los números; son todos de la familia.\"\n",
    "\n",
    "[Llamada a un amigo]\n",
    "\n",
    "Resulta que los códigos de las antenas funcionan así:\n",
    "\n",
    "Si se tiene \"WWXXXYYZZZ\", entonces:\n",
    "\n",
    "* 'WW': Departamento\n",
    "* 'XXX': Municipio\n",
    "* 'YY': Operador\n",
    "* 'ZZZ': Localización antena"
   ]
  },
  {
   "cell_type": "code",
   "execution_count": null,
   "metadata": {},
   "outputs": [],
   "source": [
    "# Remover columnas inútiles\n",
    "Cel.drop( [\"Duracion\"], axis=1, inplace=True)\n",
    "\n",
    "# Corroborar tipos\n",
    "print(Cel.dtypes)\n",
    "print(\"\\n\")\n",
    "\n",
    "# Arreglar tipos\n",
    "Cel[\"CodeAntena\"] = Cel[\"CodeAntena\"].astype(str)\n",
    "print(Cel.dtypes)\n",
    "\n",
    "# Tomar solo el pedazo de CodeAntena referente a Departamento y Municipio\n",
    "Cel[\"DeptoMuni\"] = Cel[\"CodeAntena\"].apply(lambda x: x[:5])\n",
    "Cel.head()"
   ]
  },
  {
   "cell_type": "code",
   "execution_count": null,
   "metadata": {},
   "outputs": [],
   "source": [
    "# Cargae base de municipios para comparar\n",
    "muni = pd.read_excel(\"evidencia/Municipios.xls\")\n",
    "muni.head()"
   ]
  },
  {
   "cell_type": "code",
   "execution_count": null,
   "metadata": {},
   "outputs": [],
   "source": [
    "# El archivo original es un desastre; tomar nombres de columnas con base en la fila 2\n",
    "muni.columns = muni.iloc[2,:]\n",
    "\n",
    "# Alternativa a \"head\" (más general; indexa filas y columnas)\n",
    "muni.iloc[0:7,:]"
   ]
  },
  {
   "cell_type": "code",
   "execution_count": null,
   "metadata": {},
   "outputs": [],
   "source": [
    "# desechar filas basura y renombrar columnas\n",
    "muni.drop( muni.index[[0,1,2,3,4,1125]], inplace=True )\n",
    "muni = muni[[\"Código Deapartamento\",\"Nombre Departamento\",\"Código Municipio\",\"Nombre Municipio\"]]\n",
    "\n",
    "reemplazo = {\"Código Deapartamento\":\"Cod_Depto\",\n",
    "             \"Nombre Departamento\":\"Depto\",\n",
    "             \"Código Municipio\":\"Cod_Muni\",\n",
    "             \"Nombre Municipio\":\"Muni\"}\n",
    "\n",
    "muni.rename(columns=reemplazo, inplace=True)\n",
    "muni.head()"
   ]
  },
  {
   "cell_type": "code",
   "execution_count": null,
   "metadata": {},
   "outputs": [],
   "source": [
    "# Convertir a string para comparar con Departamentos y Municipios del celular\n",
    "muni[\"Cod_Depto\"] = muni[\"Cod_Depto\"].astype(str)\n",
    "muni[\"Cod_Muni\"] = muni[\"Cod_Muni\"].astype(str)\n",
    "\n",
    "# Crear columna comparable \n",
    "# (Tanto Cel como Muni quedan con un \"DeptoMuni\" con codigos en string)\n",
    "muni[\"DeptoMuni\"] = muni[[\"Cod_Depto\",\"Cod_Muni\"]].apply(lambda x: ''.join(x), axis=1)\n",
    "muni.head()"
   ]
  },
  {
   "cell_type": "code",
   "execution_count": null,
   "metadata": {},
   "outputs": [],
   "source": [
    "# Para cada Codigo \"DeptoMuni\" que aparezca en el Cel, acumular filas que coincidan en \"DeptoMuni\" de muni\n",
    "lista = []\n",
    "for dm in Cel[\"DeptoMuni\"].unique():\n",
    "    lista.append( muni[ muni[\"DeptoMuni\"] == dm ] )\n",
    "\n",
    "# Uso más común de concat\n",
    "pd.concat(lista)"
   ]
  },
  {
   "cell_type": "code",
   "execution_count": null,
   "metadata": {},
   "outputs": [],
   "source": [
    "# Ahora sí: muéstreme las llamadas que tenían origen en San Antero\n",
    "Cel[ Cel[\"DeptoMuni\"]=='23672' ]"
   ]
  },
  {
   "cell_type": "markdown",
   "metadata": {},
   "source": [
    "\"¡Pero este vergajo que hace en San Antero! \n",
    "\n",
    "Todo el verraco fin de semana del 3 al 5 de agosto que me dijo que se iba de seminario de la empresa.\n",
    "\n",
    "¡Es que me va a oir!\" \n",
    "\n",
    "\n",
    "### Episodio 3: ¡¿Y con la platica de nosotros?!"
   ]
  },
  {
   "cell_type": "code",
   "execution_count": null,
   "metadata": {},
   "outputs": [],
   "source": [
    "file = \"evidencia/TarjetaCred.csv\"\n",
    "\n",
    "# caragr datos extracto tarjeta\n",
    "TCred = pd.read_csv(file)\n",
    "TCred.drop( [\"Unnamed: 0\"], axis=1, inplace=True)\n",
    "TCred.head()"
   ]
  },
  {
   "cell_type": "markdown",
   "metadata": {},
   "source": [
    "Miremos a ver si es cuando se pierde los viernes que le da por hacer cosas raras."
   ]
  },
  {
   "cell_type": "code",
   "execution_count": null,
   "metadata": {},
   "outputs": [],
   "source": [
    "# Utilizar dias y meses en español como referencia\n",
    "dias = {0:\"1. Lun\",1:\"2. Mar\",2:\"3. Mie\",3:\"4. Jue\",4:\"5. Vie\",5:\"6. Sab\",6:\"7. Dom\"}\n",
    "meses = {6:\"Jun\",7:\"Jul\",8:\"Ago\",9:\"Sep\"}\n",
    "\n",
    "# La columna fecha hora viene como string y queremos analizarla como DATETIME\n",
    "TCred[\"Fecha/Hora\"] = pd.to_datetime(TCred[\"Fecha/Hora\"])\n",
    "\n",
    "# Obtener día de la semana y mes a partir de objeto tipo DATETIME\n",
    "# OJO: tanto weekday como month devuelven un entero (los mapeamos con \"dias\" y \"meses\")\n",
    "TCred[\"DiaSemana\"] = TCred[\"Fecha/Hora\"].apply( lambda x: dias[ x.weekday() ] )\n",
    "TCred[\"Mes\"] = TCred[\"Fecha/Hora\"].apply( lambda x: meses[ x.month ] )\n",
    "\n",
    "TCred.head()"
   ]
  },
  {
   "cell_type": "code",
   "execution_count": null,
   "metadata": {},
   "outputs": [],
   "source": [
    "# Pasar datetime a indice\n",
    "TCred.set_index(\"Fecha/Hora\", inplace=True)\n",
    "TCred.head()"
   ]
  },
  {
   "cell_type": "code",
   "execution_count": null,
   "metadata": {},
   "outputs": [],
   "source": [
    "# GROUPBY: Muy importante para análisis.\n",
    "Aux = TCred.groupby([\"Mes\",\"DiaSemana\"]).mean()\n",
    "Aux"
   ]
  },
  {
   "cell_type": "code",
   "execution_count": null,
   "metadata": {},
   "outputs": [],
   "source": [
    "# Stack y Unstack: importante al trabajar con multi-indices (i.e., dimensiones altas)\n",
    "    # Stack es enviar columnas a indices\n",
    "    # Unstack es enviar indices a columnas\n",
    "Aux = Aux.unstack()\n",
    "Aux"
   ]
  },
  {
   "cell_type": "code",
   "execution_count": null,
   "metadata": {},
   "outputs": [],
   "source": [
    "Aux.columns = Aux.columns.droplevel()\n",
    "Aux"
   ]
  },
  {
   "cell_type": "code",
   "execution_count": null,
   "metadata": {},
   "outputs": [],
   "source": [
    "Aux.plot(kind='bar')\n",
    "plt.title(\"Gasto PROMEDIO agrupado por 'dia de la semana' Y 'mes'\")\n",
    "plt.show()"
   ]
  },
  {
   "cell_type": "markdown",
   "metadata": {},
   "source": [
    "\"¡Cómo así que este tipo se estuvo gastando 200 o 300 mil pesos los martes y jueves de julio!\n",
    "\n",
    "Muestre a ver en qué...\""
   ]
  },
  {
   "cell_type": "code",
   "execution_count": null,
   "metadata": {},
   "outputs": [],
   "source": [
    "# MUY ÚTIL: slicing basado en valores (y lógica)\n",
    "TCred[ TCred[\"Valor\"] > 200000 ]"
   ]
  },
  {
   "cell_type": "code",
   "execution_count": null,
   "metadata": {},
   "outputs": [],
   "source": [
    "# MUY ÚTIL: operaciones sobre columnas\n",
    "TCred[\"Valor\"][ TCred[\"Valor\"] > 200000].sum()"
   ]
  },
  {
   "cell_type": "markdown",
   "metadata": {},
   "source": [
    "\"¡Pero este desgraciado se gasta 3 millones en un paseo con una aparecida, con los ahorritos de nosotros!\n",
    "\n",
    "¡Ténganme! Es que... ¡Ténganme!\n",
    "\n",
    "Yo lo mato...\"\n",
    "\n",
    "[En efecto, la tuvieron]"
   ]
  },
  {
   "cell_type": "code",
   "execution_count": null,
   "metadata": {},
   "outputs": [],
   "source": [
    "# Dibujos de resumen\n",
    "ax1 = WA_Person.plot(x=\"LastSeen\", y=\"Hora\", style='.', color='b', legend=False)\n",
    "WA_Corp.plot(x=\"LastSeen\", y=\"Hora\", style='.', color='r', ax=ax1, legend=False)\n",
    "plt.title(\"Hora de Desconexión VS. Fecha (azul=personal; rojo=corporativo)\")\n",
    "plt.show()\n",
    "\n",
    "TCred[\"Valor\"].plot()\n",
    "plt.title(\"Gastos Tarjeta Credito Junio a Agosto\")\n",
    "plt.show()\n",
    "\n",
    "Cel[\"DeptoMuni\"].replace(to_replace={'23672':1, '11001':0}, inplace=True)\n",
    "Cel.set_index(\"Hora\", inplace=True)\n",
    "Cel[\"DeptoMuni\"].plot()\n",
    "plt.title(\"Llamadas con origen en Bogota (0) y con origen en San Antero (1)\")\n",
    "plt.show()"
   ]
  },
  {
   "cell_type": "markdown",
   "metadata": {},
   "source": [
    "La empezó a enredar arrancando julio...\n",
    "\n",
    "A fin de mes le compró paseo...\n",
    "\n",
    "Se la llevó empezando agosto... 3 millones por un fin de semana que ni puente era.\n",
    "\n",
    "¡Y ES TAN CONCHUDO QUE NI LE VOLVIÓ A COQUETEAR!"
   ]
  },
  {
   "cell_type": "code",
   "execution_count": null,
   "metadata": {
    "collapsed": true
   },
   "outputs": [],
   "source": []
  }
 ],
 "metadata": {
  "kernelspec": {
   "display_name": "Python 3",
   "language": "python",
   "name": "python3"
  },
  "language_info": {
   "codemirror_mode": {
    "name": "ipython",
    "version": 3
   },
   "file_extension": ".py",
   "mimetype": "text/x-python",
   "name": "python",
   "nbconvert_exporter": "python",
   "pygments_lexer": "ipython3",
   "version": "3.6.5"
  }
 },
 "nbformat": 4,
 "nbformat_minor": 2
}
